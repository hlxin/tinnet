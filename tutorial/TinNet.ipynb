{
 "cells": [
  {
   "cell_type": "code",
   "execution_count": 1,
   "metadata": {},
   "outputs": [],
   "source": [
    "#!/usr/bin/env python\n",
    "# This script is adapted from Xie's and Ulissi's scripts.\n",
    "# Load models\n",
    "\n",
    "import numpy as np\n",
    "import os.path\n",
    "import pickle\n",
    "\n",
    "from ase import io\n",
    "from ase.build.surface import *\n",
    "from ase.visualize import view"
   ]
  },
  {
   "cell_type": "code",
   "execution_count": 2,
   "metadata": {},
   "outputs": [],
   "source": [
    "# Load images from traj file\n",
    "images = io.read('./database/clean_images.traj', index=slice(None))"
   ]
  },
  {
   "cell_type": "code",
   "execution_count": 3,
   "metadata": {},
   "outputs": [],
   "source": [
    "# Create your own images\n",
    "with open('./database/MaterialDict.pkl', 'rb') as f:\n",
    "    data = pickle.load(f, encoding='bytes')\n",
    "data = {k.decode('utf8'): v for k, v in data.items()}\n",
    "\n",
    "pure_cu = fcc111('Cu', size=(2,2,4), a=data['Cu'][b'qLattConst-PBE'])\n",
    "pure_cu.center(vacuum=7.5, axis=2)\n",
    "\n",
    "cu_ag_saa = fcc111('Ag', size=(2,2,4), a=data['Ag'][b'qLattConst-PBE'])\n",
    "cu_ag_saa.center(vacuum=7.5, axis=2)\n",
    "cu_ag_saa[-1].symbol ='Cu'\n",
    "cu_ag_saa.center(vacuum=7.5, axis=2)"
   ]
  },
  {
   "cell_type": "code",
   "execution_count": 4,
   "metadata": {},
   "outputs": [
    {
     "data": {
      "image/png": "[encoded data removed]",
      "text/plain": [
       "<Figure size 675x337.5 with 1 Axes>"
      ]
     },
     "metadata": {},
     "output_type": "display_data"
    }
   ],
   "source": [
    "from d_center.tinnet.plot.plot_shap import Plot_SHAP\n",
    "model = Plot_SHAP()\n",
    "\n",
    "model.plot_shap(reference_image=pure_cu,\n",
    "                reference_site_idx=15,\n",
    "                reference_name='Pure Cu',\n",
    "                target_image=cu_ag_saa,\n",
    "                target_site_idx=15,\n",
    "                target_name='Cu1Ag SAA')\n",
    "\n",
    "# DFT calculated d-band center,\n",
    "# Pure Cu: -2.3687 eV\n",
    "# Cu1Ag SAA: -1.9636 eV"
   ]
  },
  {
   "cell_type": "code",
   "execution_count": 5,
   "metadata": {},
   "outputs": [
    {
     "name": "stdout",
     "output_type": "stream",
     "text": [
      "--- Moments for Pure Cu ---\n",
      "Second Moment  (⟨ε²⟩): 1.17396  → related to band width / energy spread\n",
      "Third Moment   (⟨ε³⟩): 1.32360  → indicates asymmetry / skewness of DOS\n",
      "Fourth Moment  (⟨ε⁴⟩): 13.52467  → measures kurtosis / 'tailedness' of DOS\n",
      "\n",
      "--- Moments for Cu1Ag SAA ---\n",
      "Second Moment  (⟨ε²⟩): 0.84783  → related to band width / energy spread\n",
      "Third Moment   (⟨ε³⟩): 0.56170  → indicates asymmetry / skewness of DOS\n",
      "Fourth Moment  (⟨ε⁴⟩): 11.97915  → measures kurtosis / 'tailedness' of DOS\n",
      "\n"
     ]
    }
   ],
   "source": [
    "from d_moment.d_moment import d_moment\n",
    "\n",
    "def print_moments(moments, name=\"\"):\n",
    "    second = moments[0]\n",
    "    third = moments[1]\n",
    "    fourth = moments[2]\n",
    "\n",
    "    print(f\"--- Moments for {name} ---\")\n",
    "    if second is not None:\n",
    "        print(f\"Second Moment  (⟨ε²⟩): {second:.5f}  → related to band width / energy spread\")\n",
    "    if third is not None:\n",
    "        print(f\"Third Moment   (⟨ε³⟩): {third:.5f}  → indicates asymmetry / skewness of DOS\")\n",
    "    if fourth is not None:\n",
    "        print(f\"Fourth Moment  (⟨ε⁴⟩): {fourth:.5f}  → measures kurtosis / 'tailedness' of DOS\")\n",
    "    print()\n",
    "\n",
    "moments_ref, moments_target = d_moment(reference_image=pure_cu,\n",
    "                                       reference_site_idx=15,\n",
    "                                       reference_name='Pure Cu',\n",
    "                                       target_image=cu_ag_saa,\n",
    "                                       target_site_idx=15,\n",
    "                                       target_name='Cu1Ag SAA')\n",
    "\n",
    "print_moments(moments_ref, name=\"Pure Cu\")\n",
    "print_moments(moments_target, name=\"Cu1Ag SAA\")\n",
    "\n",
    "# DFT calculated d-band moments,\n",
    "# Pure Cu: 1.1276, 1.2829, 12.2791\n",
    "# Cu1Ag SAA: 0.7515, 0.2496, 9.3852"
   ]
  },
  {
   "cell_type": "code",
   "execution_count": 6,
   "metadata": {},
   "outputs": [
    {
     "name": "stdout",
     "output_type": "stream",
     "text": [
      "Cohesive Energy Comparison\n",
      "==============================\n",
      "Material        Cohesive Energy (eV)\n",
      "------------------------------\n",
      "Pure Cu                      -5.4782\n",
      "Cu1Ag SAA                    -3.8326\n",
      "==============================\n",
      "Difference (target - reference): 1.6457 eV\n"
     ]
    }
   ],
   "source": [
    "from cohesive_energy.cohesive_energy import cohesive_energy\n",
    "\n",
    "def print_cohesive_energy(ech_ref, ech_target, reference_name='Reference', target_name='Target'):\n",
    "    print(\"Cohesive Energy Comparison\")\n",
    "    print(\"=\" * 30)\n",
    "    print(f\"{'Material':<15} {'Cohesive Energy (eV)':>20}\")\n",
    "    print(\"-\" * 30)\n",
    "    print(f\"{reference_name:<15} {ech_ref:>20.4f}\")\n",
    "    print(f\"{target_name:<15} {ech_target:>20.4f}\")\n",
    "    print(\"=\" * 30)\n",
    "    delta = ech_target - ech_ref\n",
    "    print(f\"Difference (target - reference): {delta:.4f} eV\")\n",
    "\n",
    "ech_ref, ech_target = cohesive_energy(reference_image=pure_cu,\n",
    "                                      reference_name='Pure Cu',\n",
    "                                      target_image=cu_ag_saa,\n",
    "                                      target_name='Cu1Ag SAA')\n",
    "\n",
    "print_cohesive_energy(ech_ref, ech_target, reference_name='Pure Cu', target_name='Cu1Ag SAA')\n",
    "\n",
    "# DFT calculated cohesive energy,\n",
    "# Pure Cu: -3.3077 eV\n",
    "# Cu1Ag SAA: -2.4405 eV"
   ]
  },
  {
   "cell_type": "code",
   "execution_count": null,
   "metadata": {},
   "outputs": [
    {
     "name": "stdout",
     "output_type": "stream",
     "text": [
      "Adsorption Energy Comparison (OH-top)\n",
      "========================================\n",
      "Material           Adsorption Energy (eV)\n",
      "----------------------------------------\n",
      "Pure Cu                           -2.1897\n",
      "Cu1Ag SAA                         -2.3496\n",
      "========================================\n",
      "Difference (target - reference): -0.1599 eV\n"
     ]
    }
   ],
   "source": [
    "from adsorption_energy_OH_top.adsorption_energy_OH_top import adsorption_energy_OH_top\n",
    "\n",
    "def print_adsorption_energy(ead_ref, ead_target, reference_name='Reference', target_name='Target'):\n",
    "    print(\"Adsorption Energy Comparison (OH-top)\")\n",
    "    print(\"=\" * 40)\n",
    "    print(f\"{'Material':<15} {'Adsorption Energy (eV)':>25}\")\n",
    "    print(\"-\" * 40)\n",
    "    print(f\"{reference_name:<15} {ead_ref:>25.4f}\")\n",
    "    print(f\"{target_name:<15} {ead_target:>25.4f}\")\n",
    "    print(\"=\" * 40)\n",
    "    delta = ead_target - ead_ref\n",
    "    print(f\"Difference (target - reference): {delta:.4f} eV\")\n",
    "\n",
    "ead_ref, ead_target = adsorption_energy_OH_top(reference_image=pure_cu,\n",
    "                                               reference_site_idx=15,\n",
    "                                               reference_name='Pure Cu',\n",
    "                                               target_image=cu_ag_saa,\n",
    "                                               target_site_idx=15,\n",
    "                                               target_name='Cu1Ag SAA')\n",
    "\n",
    "print_adsorption_energy(ead_ref, ead_target, reference_name='Pure Cu', target_name='Cu1Ag SAA')\n",
    "\n",
    "# DFT calculated adsorption energy,\n",
    "# Pure Cu: -2.1967 eV\n",
    "# Cu1Ag SAA: eV"
   ]
  },
  {
   "cell_type": "code",
   "execution_count": null,
   "metadata": {},
   "outputs": [],
   "source": []
  }
 ],
 "metadata": {
  "kernelspec": {
   "display_name": "Python [conda env:base] *",
   "language": "python",
   "name": "conda-base-py"
  },
  "language_info": {
   "codemirror_mode": {
    "name": "ipython",
    "version": 3
   },
   "file_extension": ".py",
   "mimetype": "text/x-python",
   "name": "python",
   "nbconvert_exporter": "python",
   "pygments_lexer": "ipython3",
   "version": "3.12.7"
  }
 },
 "nbformat": 4,
 "nbformat_minor": 4
}
